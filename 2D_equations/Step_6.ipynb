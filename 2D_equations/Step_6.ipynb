{
 "cells": [
  {
   "cell_type": "markdown",
   "id": "07f19ce6-60ec-4df5-810e-fcbcc08877df",
   "metadata": {},
   "source": [
    "# Step 6: Array Operations with NumPy\n",
    "\n",
    "From now on we use a different method for the evaluation of $u\\left(x,\\; y,\\; t\\right)$ across all the mesh. \n",
    "\n",
    "Until now we've used nested for-loops, which fastly become computationally heavy (i.e. the simulation runs really slow). Instead of using this ineffective strategy, we resort to the optimization already done by computer geeks and we start to use Numpy-array's operations. Especially, we are going to use the slicing of arrays in order to evaluate faster the values of $u\\left(x,\\; y,\\; \\hat t + 1\\right)$ for every $\\left(x,\\; y\\right)$, given the values of $u\\left(x,\\; y,\\; \\hat t\\right)$. \n",
    "\n",
    "Strategies from the web for accelerating a Python code:\n",
    "- Numpy (used here) and Cython: https://technicaldiscovery.blogspot.com/2011/06/speeding-up-python-numpy-cython-and.html\n",
    "- Numba: https://numba.pydata.org/\n",
    "\n",
    "To evaluate the computation time of my simulations, I use cell's magic functions named '$\\textit{time}$' and '$\\textit{timeit}$', which are called using the double $\\textbf{\\%}$. They're different from Python built-in functions, for further readings consult:\n",
    "- Built-in Magics: https://ipython.readthedocs.io/en/stable/interactive/magics.html\n",
    "- Cells' Magic in Jupyter Notebooks: https://www.geeksforgeeks.org/jupyter-notebook-cell-magic-functions/\n",
    "- Python built-in functions: https://docs.python.org/3/library/functions.html#func-list\n",
    "\n",
    "$\\textbf{NOTE}$: this kind of implementation (as I far as I know) is only valid for the explicit solvers, which are the solvers that I'm developing (i.e. we evaluate space derivatives only at time $n$ and not $n+1$). For more about implicit and explicit solvers start from here: https://en.wikipedia.org/wiki/Explicit_and_implicit_methods"
   ]
  },
  {
   "cell_type": "code",
   "execution_count": 26,
   "id": "c814e440-a3c9-4cb8-af10-a7c481228af1",
   "metadata": {},
   "outputs": [],
   "source": [
    "import numpy as np"
   ]
  },
  {
   "cell_type": "code",
   "execution_count": 29,
   "id": "a6d01011-5ad3-4fbb-b367-26c671cb07fc",
   "metadata": {},
   "outputs": [
    {
     "name": "stdout",
     "output_type": "stream",
     "text": [
      "21.5 μs ± 1.97 μs per loop (mean ± std. dev. of 7 runs, 10,000 loops each)\n"
     ]
    }
   ],
   "source": [
    "%%timeit   # This 'magic' function evaluates the time required to compute this cell. See: Jupyter - Cell magic functions\n",
    "\n",
    "# u = np.array((0, 1, 2, 3, 4, 5))\n",
    "u = np.linspace(0, 500, 501)\n",
    "u1 = np.zeros(len(u) - 1)   # len() is a Python built-in function\n",
    "\n",
    "# Using 'for' loop for computation\n",
    "\n",
    "# for i in range(1, len(u)):\n",
    "#     u1[i-1] = u[i] - u[i-1]\n",
    "\n",
    "# Using array operations for computation\n",
    "\n",
    "u1 = u[1:] - u[0:-1]\n",
    "\n",
    "# print(u, '\\n', u1)"
   ]
  },
  {
   "cell_type": "code",
   "execution_count": null,
   "id": "9261eb05-c2c9-4174-bffe-591d82a6e805",
   "metadata": {},
   "outputs": [],
   "source": [
    "# array ops: 16 μs ± 710 ns \n",
    "# for loop: 171 μs ± 4.48 μs"
   ]
  }
 ],
 "metadata": {
  "kernelspec": {
   "display_name": "Python 3 (ipykernel)",
   "language": "python",
   "name": "python3"
  },
  "language_info": {
   "codemirror_mode": {
    "name": "ipython",
    "version": 3
   },
   "file_extension": ".py",
   "mimetype": "text/x-python",
   "name": "python",
   "nbconvert_exporter": "python",
   "pygments_lexer": "ipython3",
   "version": "3.11.4"
  }
 },
 "nbformat": 4,
 "nbformat_minor": 5
}
